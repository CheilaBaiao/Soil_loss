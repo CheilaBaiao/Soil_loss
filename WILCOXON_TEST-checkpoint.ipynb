{
 "cells": [
  {
   "cell_type": "code",
   "execution_count": 35,
   "metadata": {},
   "outputs": [],
   "source": [
    "import matplotlib.pyplot as plt\n",
    "import matplotlib.gridspec as gridspec\n",
    "from matplotlib import cm\n",
    "import pandas as pd\n",
    "import numpy as np\n",
    "import seaborn as sns\n",
    "import scipy.stats as stats\n",
    "from scipy.stats import wilcoxon\n",
    "from scipy.stats import mannwhitneyu"
   ]
  },
  {
   "cell_type": "code",
   "execution_count": 36,
   "metadata": {},
   "outputs": [],
   "source": [
    "\n",
    "df = pd.read_excel ('SDR_burned_area_1.xlsx') #Read excel file\n"
   ]
  },
  {
   "cell_type": "code",
   "execution_count": 37,
   "metadata": {},
   "outputs": [
    {
     "data": {
      "text/html": [
       "<div>\n",
       "<style scoped>\n",
       "    .dataframe tbody tr th:only-of-type {\n",
       "        vertical-align: middle;\n",
       "    }\n",
       "\n",
       "    .dataframe tbody tr th {\n",
       "        vertical-align: top;\n",
       "    }\n",
       "\n",
       "    .dataframe thead th {\n",
       "        text-align: right;\n",
       "    }\n",
       "</style>\n",
       "<table border=\"1\" class=\"dataframe\">\n",
       "  <thead>\n",
       "    <tr style=\"text-align: right;\">\n",
       "      <th></th>\n",
       "      <th>zone</th>\n",
       "      <th>count</th>\n",
       "      <th>count_2</th>\n",
       "      <th>AREA</th>\n",
       "      <th>MONTH</th>\n",
       "      <th>YEAR</th>\n",
       "      <th>id1</th>\n",
       "      <th>LULC</th>\n",
       "      <th>IBGE</th>\n",
       "      <th>LULC_1</th>\n",
       "      <th>...</th>\n",
       "      <th>ES_EXPORT/</th>\n",
       "      <th>ES_AVOID/H</th>\n",
       "      <th>d_riversme</th>\n",
       "      <th>d_rivers_1</th>\n",
       "      <th>RIVERS</th>\n",
       "      <th>d_riversma</th>\n",
       "      <th>D_roadsmea</th>\n",
       "      <th>D_roadsmed</th>\n",
       "      <th>ROADS</th>\n",
       "      <th>D_roadsmax</th>\n",
       "    </tr>\n",
       "  </thead>\n",
       "  <tbody>\n",
       "    <tr>\n",
       "      <th>0</th>\n",
       "      <td>1009</td>\n",
       "      <td>15</td>\n",
       "      <td>72</td>\n",
       "      <td>1.239</td>\n",
       "      <td>10</td>\n",
       "      <td>2019</td>\n",
       "      <td>405</td>\n",
       "      <td>Eucalyptus</td>\n",
       "      <td>E</td>\n",
       "      <td>109</td>\n",
       "      <td>...</td>\n",
       "      <td>3.768632</td>\n",
       "      <td>3.644567</td>\n",
       "      <td>261.544904</td>\n",
       "      <td>256.478546</td>\n",
       "      <td>190.804214</td>\n",
       "      <td>344.827881</td>\n",
       "      <td>3462.462539</td>\n",
       "      <td>3465.721628</td>\n",
       "      <td>3376.886476</td>\n",
       "      <td>3537.619315</td>\n",
       "    </tr>\n",
       "    <tr>\n",
       "      <th>1</th>\n",
       "      <td>1009</td>\n",
       "      <td>45</td>\n",
       "      <td>44</td>\n",
       "      <td>3.633</td>\n",
       "      <td>10</td>\n",
       "      <td>2011</td>\n",
       "      <td>233</td>\n",
       "      <td>Eucalyptus</td>\n",
       "      <td>E</td>\n",
       "      <td>109</td>\n",
       "      <td>...</td>\n",
       "      <td>0.974985</td>\n",
       "      <td>2.665455</td>\n",
       "      <td>177.993156</td>\n",
       "      <td>174.104858</td>\n",
       "      <td>112.500000</td>\n",
       "      <td>262.500000</td>\n",
       "      <td>113.465742</td>\n",
       "      <td>106.777934</td>\n",
       "      <td>0.000000</td>\n",
       "      <td>267.453992</td>\n",
       "    </tr>\n",
       "    <tr>\n",
       "      <th>2</th>\n",
       "      <td>1009</td>\n",
       "      <td>23</td>\n",
       "      <td>186</td>\n",
       "      <td>1.899</td>\n",
       "      <td>10</td>\n",
       "      <td>2011</td>\n",
       "      <td>230</td>\n",
       "      <td>Eucalyptus</td>\n",
       "      <td>E</td>\n",
       "      <td>109</td>\n",
       "      <td>...</td>\n",
       "      <td>1.655464</td>\n",
       "      <td>4.111118</td>\n",
       "      <td>190.326593</td>\n",
       "      <td>194.854073</td>\n",
       "      <td>70.710678</td>\n",
       "      <td>289.935333</td>\n",
       "      <td>113.126914</td>\n",
       "      <td>112.480404</td>\n",
       "      <td>37.493468</td>\n",
       "      <td>174.958017</td>\n",
       "    </tr>\n",
       "    <tr>\n",
       "      <th>3</th>\n",
       "      <td>1009</td>\n",
       "      <td>110</td>\n",
       "      <td>112</td>\n",
       "      <td>7.026</td>\n",
       "      <td>10</td>\n",
       "      <td>2014</td>\n",
       "      <td>342</td>\n",
       "      <td>Eucalyptus</td>\n",
       "      <td>E</td>\n",
       "      <td>109</td>\n",
       "      <td>...</td>\n",
       "      <td>0.161882</td>\n",
       "      <td>0.226702</td>\n",
       "      <td>235.470778</td>\n",
       "      <td>227.244118</td>\n",
       "      <td>100.000000</td>\n",
       "      <td>397.256195</td>\n",
       "      <td>342.137031</td>\n",
       "      <td>346.115284</td>\n",
       "      <td>123.718066</td>\n",
       "      <td>548.191231</td>\n",
       "    </tr>\n",
       "    <tr>\n",
       "      <th>4</th>\n",
       "      <td>1003</td>\n",
       "      <td>136</td>\n",
       "      <td>3967</td>\n",
       "      <td>11.236</td>\n",
       "      <td>10</td>\n",
       "      <td>2014</td>\n",
       "      <td>337</td>\n",
       "      <td>HAG</td>\n",
       "      <td>r</td>\n",
       "      <td>203</td>\n",
       "      <td>...</td>\n",
       "      <td>4.824746</td>\n",
       "      <td>13.093077</td>\n",
       "      <td>294.400254</td>\n",
       "      <td>292.617493</td>\n",
       "      <td>50.000000</td>\n",
       "      <td>519.915894</td>\n",
       "      <td>1649.482721</td>\n",
       "      <td>1663.642607</td>\n",
       "      <td>1347.099354</td>\n",
       "      <td>2013.119411</td>\n",
       "    </tr>\n",
       "  </tbody>\n",
       "</table>\n",
       "<p>5 rows × 53 columns</p>\n",
       "</div>"
      ],
      "text/plain": [
       "   zone  count  count_2    AREA  MONTH  YEAR  id1        LULC IBGE  LULC_1  \\\n",
       "0  1009     15       72   1.239     10  2019  405  Eucalyptus    E     109   \n",
       "1  1009     45       44   3.633     10  2011  233  Eucalyptus    E     109   \n",
       "2  1009     23      186   1.899     10  2011  230  Eucalyptus    E     109   \n",
       "3  1009    110      112   7.026     10  2014  342  Eucalyptus    E     109   \n",
       "4  1003    136     3967  11.236     10  2014  337         HAG    r     203   \n",
       "\n",
       "   ...  ES_EXPORT/  ES_AVOID/H  d_riversme  d_rivers_1      RIVERS  \\\n",
       "0  ...    3.768632    3.644567  261.544904  256.478546  190.804214   \n",
       "1  ...    0.974985    2.665455  177.993156  174.104858  112.500000   \n",
       "2  ...    1.655464    4.111118  190.326593  194.854073   70.710678   \n",
       "3  ...    0.161882    0.226702  235.470778  227.244118  100.000000   \n",
       "4  ...    4.824746   13.093077  294.400254  292.617493   50.000000   \n",
       "\n",
       "   d_riversma   D_roadsmea   D_roadsmed        ROADS   D_roadsmax  \n",
       "0  344.827881  3462.462539  3465.721628  3376.886476  3537.619315  \n",
       "1  262.500000   113.465742   106.777934     0.000000   267.453992  \n",
       "2  289.935333   113.126914   112.480404    37.493468   174.958017  \n",
       "3  397.256195   342.137031   346.115284   123.718066   548.191231  \n",
       "4  519.915894  1649.482721  1663.642607  1347.099354  2013.119411  \n",
       "\n",
       "[5 rows x 53 columns]"
      ]
     },
     "execution_count": 37,
     "metadata": {},
     "output_type": "execute_result"
    }
   ],
   "source": [
    "df.head()"
   ]
  },
  {
   "cell_type": "code",
   "execution_count": 38,
   "metadata": {},
   "outputs": [
    {
     "data": {
      "text/plain": [
       "<bound method DataFrame.info of      zone  count  count_2    AREA  MONTH  YEAR  id1           LULC IBGE  \\\n",
       "0    1009     15       72   1.239     10  2019  405     Eucalyptus    E   \n",
       "1    1009     45       44   3.633     10  2011  233     Eucalyptus    E   \n",
       "2    1009     23      186   1.899     10  2011  230     Eucalyptus    E   \n",
       "3    1009    110      112   7.026     10  2014  342     Eucalyptus    E   \n",
       "4    1003    136     3967  11.236     10  2014  337            HAG    r   \n",
       "..    ...    ...      ...     ...    ...   ...  ...            ...  ...   \n",
       "537   603     58     6606   4.794      6  2000  535  Secondary SSF    F   \n",
       "538   903     21      222   1.736      9  2014  303  Secondary SSF    F   \n",
       "539   703     90     6606   6.281      7  2000  536  Secondary SSF    F   \n",
       "540  1003     24      956   1.157     10  2019  394  Secondary SSF    F   \n",
       "541  1003     32       57   1.405     10  2019  403  Secondary SSF    F   \n",
       "\n",
       "     LULC_1  ...  ES_EXPORT/  ES_AVOID/H  d_riversme  d_rivers_1      RIVERS  \\\n",
       "0       109  ...    3.768632    3.644567  261.544904  256.478546  190.804214   \n",
       "1       109  ...    0.974985    2.665455  177.993156  174.104858  112.500000   \n",
       "2       109  ...    1.655464    4.111118  190.326593  194.854073   70.710678   \n",
       "3       109  ...    0.161882    0.226702  235.470778  227.244118  100.000000   \n",
       "4       203  ...    4.824746   13.093077  294.400254  292.617493   50.000000   \n",
       "..      ...  ...         ...         ...         ...         ...         ...   \n",
       "537     303  ...    0.004211   -0.003956  125.429289  125.000000    0.000000   \n",
       "538     303  ...    0.008535   -0.007651  266.211019  265.753662  170.018387   \n",
       "539     303  ...    0.000766    0.000910   69.165710   55.901699    0.000000   \n",
       "540     303  ...    0.003282   -0.002872   25.524928   25.000000    0.000000   \n",
       "541     303  ...    0.002570   -0.002154  205.768441  205.585266  115.244308   \n",
       "\n",
       "     d_riversma   D_roadsmea   D_roadsmed        ROADS   D_roadsmax  \n",
       "0    344.827881  3462.462539  3465.721628  3376.886476  3537.619315  \n",
       "1    262.500000   113.465742   106.777934     0.000000   267.453992  \n",
       "2    289.935333   113.126914   112.480404    37.493468   174.958017  \n",
       "3    397.256195   342.137031   346.115284   123.718066   548.191231  \n",
       "4    519.915894  1649.482721  1663.642607  1347.099354  2013.119411  \n",
       "..          ...          ...          ...          ...          ...  \n",
       "537  252.796860   906.452651   921.736117   733.503261  1078.882540  \n",
       "538  340.036774    32.370914    24.995645     0.000000    95.175296  \n",
       "539  218.660690   928.065340   932.389179   687.789412  1181.950401  \n",
       "540   80.039055  1166.861031  1162.221112  1112.233108  1249.700121  \n",
       "541  290.742584  1821.592414  1814.014673  1738.320741  1908.895453  \n",
       "\n",
       "[542 rows x 53 columns]>"
      ]
     },
     "execution_count": 38,
     "metadata": {},
     "output_type": "execute_result"
    }
   ],
   "source": [
    "df.info"
   ]
  },
  {
   "cell_type": "code",
   "execution_count": 48,
   "metadata": {},
   "outputs": [
    {
     "data": {
      "text/plain": [
       "WilcoxonResult(statistic=1066.0, pvalue=6.199221182207793e-88)"
      ]
     },
     "execution_count": 48,
     "metadata": {},
     "output_type": "execute_result"
    }
   ],
   "source": [
    "stats.wilcoxon(df['ES__usle_p'], df['ES__usle_1'])"
   ]
  },
  {
   "cell_type": "code",
   "execution_count": 45,
   "metadata": {},
   "outputs": [
    {
     "data": {
      "text/plain": [
       "WilcoxonResult(statistic=1195.0, pvalue=4.0140590835698492e-87)"
      ]
     },
     "execution_count": 45,
     "metadata": {},
     "output_type": "execute_result"
    }
   ],
   "source": [
    "\n",
    "stats.wilcoxon(df['ES__ex_pre'], df['ES__ex_pos'])"
   ]
  },
  {
   "cell_type": "code",
   "execution_count": 46,
   "metadata": {},
   "outputs": [
    {
     "data": {
      "text/plain": [
       "WilcoxonResult(statistic=4023.0, pvalue=1.5408841298574505e-78)"
      ]
     },
     "execution_count": 46,
     "metadata": {},
     "output_type": "execute_result"
    }
   ],
   "source": [
    "stats.wilcoxon(df['ES__av_pre'], df['ES__av_pos'])"
   ]
  }
 ],
 "metadata": {
  "kernelspec": {
   "display_name": "Python 3",
   "language": "python",
   "name": "python3"
  },
  "language_info": {
   "codemirror_mode": {
    "name": "ipython",
    "version": 3
   },
   "file_extension": ".py",
   "mimetype": "text/x-python",
   "name": "python",
   "nbconvert_exporter": "python",
   "pygments_lexer": "ipython3",
   "version": "3.8.5"
  }
 },
 "nbformat": 4,
 "nbformat_minor": 4
}
