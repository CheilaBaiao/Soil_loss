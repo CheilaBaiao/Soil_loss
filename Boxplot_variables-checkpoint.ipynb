{
 "cells": [
  {
   "cell_type": "code",
   "execution_count": 2,
   "metadata": {},
   "outputs": [],
   "source": [
    "import numpy  as np\n",
    "import pandas as pd\n",
    "import matplotlib.pyplot as plt\n",
    "from matplotlib import cm\n",
    "import pandas as pd\n",
    "\n",
    "import seaborn as sns\n",
    "from scipy.stats import kstest\n",
    "from sklearn import linear_model\n",
    "from sklearn.preprocessing import PolynomialFeatures\n",
    "\n",
    "%matplotlib inline\n"
   ]
  },
  {
   "cell_type": "code",
   "execution_count": 3,
   "metadata": {},
   "outputs": [],
   "source": [
    "df = pd.read_excel('SDR_burned_area_bacia.xlsx')"
   ]
  },
  {
   "cell_type": "code",
   "execution_count": 4,
   "metadata": {},
   "outputs": [
    {
     "name": "stdout",
     "output_type": "stream",
     "text": [
      "   zone  count  count_2    AREA  MONTH  YEAR  id1  id1.1  Watershed     are  \\\n",
      "0   815     27   141071   2.232      8  2001    1      1         49   2.011   \n",
      "1   815     33      814   2.729      8  2001    2      2         49   2.729   \n",
      "2   815    206   141071  17.027      8  2001    3      3         49  17.027   \n",
      "3   815     29      814   2.315      8  2001    4      4         49   2.264   \n",
      "4   815     16      898   1.323      8  2001    5      5         49   1.323   \n",
      "\n",
      "   ... ES_EXPORT/ ES_AVOID/H  d_riversme  d_rivers_1      RIVERS  d_riversma  \\\n",
      "0  ...   1.304358   0.019617  316.250121  313.249115  250.000000  397.256195   \n",
      "1  ...   4.417678   0.008013  236.347852  230.488617  142.521927  345.732941   \n",
      "2  ...   1.903986   2.617224  165.222111  173.655548   25.000000  275.000000   \n",
      "3  ...   1.458663   0.161360  212.245851  242.060608   35.355339  352.003204   \n",
      "4  ...   3.839102   6.434953   41.391127   39.528473    0.000000  106.066010   \n",
      "\n",
      "   D_roadsmea  D_roadsmed       ROADS  D_roadsmax  \n",
      "0  675.687218  681.879535  542.599008  775.261645  \n",
      "1   44.952425   37.493468    0.000000  112.480404  \n",
      "2   76.565520   71.783359    0.000000  260.946462  \n",
      "3  452.022756  481.266701  288.532898  569.161659  \n",
      "4   74.630920   74.982007   24.994002  125.593390  \n",
      "\n",
      "[5 rows x 57 columns]\n"
     ]
    }
   ],
   "source": [
    "df = df.reset_index(drop=True)\n",
    "print(df.head())"
   ]
  },
  {
   "cell_type": "code",
   "execution_count": 5,
   "metadata": {},
   "outputs": [],
   "source": [
    "df = df[['IBGE','K_FACTOR','DROUGHT','R_FACTOR','C_FACTOR','PRIORITY','SEVERITY','AREA','ELEVATION','SLOPE','RADIATION', 'RIVERS', 'ROADS']]"
   ]
  },
  {
   "cell_type": "code",
   "execution_count": 6,
   "metadata": {},
   "outputs": [],
   "source": [
    "df.rename (columns = {'IBGE':'LULC'}, inplace = True)\n",
    "df = df.replace(regex={r'P': 'Pasture', 'D': 'ODF','F': 'SSF', 'r': 'HAG', 'M': 'MOF', 'E': 'Eucalyptus' })"
   ]
  },
  {
   "cell_type": "code",
   "execution_count": 7,
   "metadata": {},
   "outputs": [
    {
     "data": {
      "text/html": [
       "<div>\n",
       "<style scoped>\n",
       "    .dataframe tbody tr th:only-of-type {\n",
       "        vertical-align: middle;\n",
       "    }\n",
       "\n",
       "    .dataframe tbody tr th {\n",
       "        vertical-align: top;\n",
       "    }\n",
       "\n",
       "    .dataframe thead th {\n",
       "        text-align: right;\n",
       "    }\n",
       "</style>\n",
       "<table border=\"1\" class=\"dataframe\">\n",
       "  <thead>\n",
       "    <tr style=\"text-align: right;\">\n",
       "      <th></th>\n",
       "      <th>LULC</th>\n",
       "      <th>K_FACTOR</th>\n",
       "      <th>DROUGHT</th>\n",
       "      <th>R_FACTOR</th>\n",
       "      <th>C_FACTOR</th>\n",
       "      <th>PRIORITY</th>\n",
       "      <th>SEVERITY</th>\n",
       "      <th>AREA</th>\n",
       "      <th>ELEVATION</th>\n",
       "      <th>SLOPE</th>\n",
       "      <th>RADIATION</th>\n",
       "      <th>RIVERS</th>\n",
       "      <th>ROADS</th>\n",
       "    </tr>\n",
       "  </thead>\n",
       "  <tbody>\n",
       "    <tr>\n",
       "      <th>0</th>\n",
       "      <td>Pasture</td>\n",
       "      <td>0.0112</td>\n",
       "      <td>2.0</td>\n",
       "      <td>5830.830013</td>\n",
       "      <td>0.085436</td>\n",
       "      <td>1.0</td>\n",
       "      <td>0.150</td>\n",
       "      <td>2.232</td>\n",
       "      <td>719.795455</td>\n",
       "      <td>18.394343</td>\n",
       "      <td>4070.259484</td>\n",
       "      <td>250.000000</td>\n",
       "      <td>542.599008</td>\n",
       "    </tr>\n",
       "    <tr>\n",
       "      <th>1</th>\n",
       "      <td>Pasture</td>\n",
       "      <td>0.0112</td>\n",
       "      <td>1.5</td>\n",
       "      <td>5857.957520</td>\n",
       "      <td>0.085436</td>\n",
       "      <td>1.0</td>\n",
       "      <td>0.127</td>\n",
       "      <td>2.729</td>\n",
       "      <td>617.744186</td>\n",
       "      <td>21.511700</td>\n",
       "      <td>5039.473579</td>\n",
       "      <td>142.521927</td>\n",
       "      <td>0.000000</td>\n",
       "    </tr>\n",
       "    <tr>\n",
       "      <th>2</th>\n",
       "      <td>Pasture</td>\n",
       "      <td>0.0112</td>\n",
       "      <td>2.0</td>\n",
       "      <td>5828.427411</td>\n",
       "      <td>0.085436</td>\n",
       "      <td>1.0</td>\n",
       "      <td>0.176</td>\n",
       "      <td>17.027</td>\n",
       "      <td>673.149584</td>\n",
       "      <td>14.534583</td>\n",
       "      <td>5108.330569</td>\n",
       "      <td>25.000000</td>\n",
       "      <td>0.000000</td>\n",
       "    </tr>\n",
       "    <tr>\n",
       "      <th>3</th>\n",
       "      <td>Pasture</td>\n",
       "      <td>0.0112</td>\n",
       "      <td>1.5</td>\n",
       "      <td>5857.957520</td>\n",
       "      <td>0.085436</td>\n",
       "      <td>1.0</td>\n",
       "      <td>0.115</td>\n",
       "      <td>2.315</td>\n",
       "      <td>673.210884</td>\n",
       "      <td>19.994779</td>\n",
       "      <td>3980.220559</td>\n",
       "      <td>35.355339</td>\n",
       "      <td>288.532898</td>\n",
       "    </tr>\n",
       "    <tr>\n",
       "      <th>4</th>\n",
       "      <td>Pasture</td>\n",
       "      <td>0.0112</td>\n",
       "      <td>1.5</td>\n",
       "      <td>5962.503418</td>\n",
       "      <td>0.085436</td>\n",
       "      <td>1.0</td>\n",
       "      <td>0.115</td>\n",
       "      <td>1.323</td>\n",
       "      <td>570.677778</td>\n",
       "      <td>23.234326</td>\n",
       "      <td>2702.173952</td>\n",
       "      <td>0.000000</td>\n",
       "      <td>24.994002</td>\n",
       "    </tr>\n",
       "  </tbody>\n",
       "</table>\n",
       "</div>"
      ],
      "text/plain": [
       "      LULC  K_FACTOR  DROUGHT     R_FACTOR  C_FACTOR  PRIORITY  SEVERITY  \\\n",
       "0  Pasture    0.0112      2.0  5830.830013  0.085436       1.0     0.150   \n",
       "1  Pasture    0.0112      1.5  5857.957520  0.085436       1.0     0.127   \n",
       "2  Pasture    0.0112      2.0  5828.427411  0.085436       1.0     0.176   \n",
       "3  Pasture    0.0112      1.5  5857.957520  0.085436       1.0     0.115   \n",
       "4  Pasture    0.0112      1.5  5962.503418  0.085436       1.0     0.115   \n",
       "\n",
       "     AREA   ELEVATION      SLOPE    RADIATION      RIVERS       ROADS  \n",
       "0   2.232  719.795455  18.394343  4070.259484  250.000000  542.599008  \n",
       "1   2.729  617.744186  21.511700  5039.473579  142.521927    0.000000  \n",
       "2  17.027  673.149584  14.534583  5108.330569   25.000000    0.000000  \n",
       "3   2.315  673.210884  19.994779  3980.220559   35.355339  288.532898  \n",
       "4   1.323  570.677778  23.234326  2702.173952    0.000000   24.994002  "
      ]
     },
     "execution_count": 7,
     "metadata": {},
     "output_type": "execute_result"
    }
   ],
   "source": [
    "df.head()"
   ]
  },
  {
   "cell_type": "code",
   "execution_count": 8,
   "metadata": {},
   "outputs": [
    {
     "data": {
      "image/png": "[encoded data removed]",
      "text/plain": [
       "<Figure size 432x288 with 1 Axes>"
      ]
     },
     "metadata": {
      "needs_background": "light"
     },
     "output_type": "display_data"
    }
   ],
   "source": [
    "ax1= sns.boxplot(data= df, orient='h', x=\"K_FACTOR\", y=\"LULC\", width=0.8)\n",
    "\n",
    "plt.show\n",
    "fig = ax1\n",
    "plt.savefig ('K-factor.tif')"
   ]
  },
  {
   "cell_type": "code",
   "execution_count": 9,
   "metadata": {},
   "outputs": [
    {
     "data": {
      "image/png": "[encoded data removed]",
      "text/plain": [
       "<Figure size 432x288 with 1 Axes>"
      ]
     },
     "metadata": {
      "needs_background": "light"
     },
     "output_type": "display_data"
    }
   ],
   "source": [
    "ax2 = sns.boxplot (data= df, orient='h', x=\"R_FACTOR\", y=\"LULC\", width=0.8)\n",
    "plt.show\n",
    "fig = ax2\n",
    "plt.savefig ('R-factor.tif')"
   ]
  },
  {
   "cell_type": "code",
   "execution_count": 10,
   "metadata": {},
   "outputs": [
    {
     "data": {
      "image/png": "[encoded data removed]",
      "text/plain": [
       "<Figure size 432x288 with 1 Axes>"
      ]
     },
     "metadata": {
      "needs_background": "light"
     },
     "output_type": "display_data"
    }
   ],
   "source": [
    "ax3 = sns.boxplot (data= df, orient='h', x=\"ELEVATION\", y=\"LULC\", width=0.8)\n",
    "plt.show\n",
    "fig = ax3\n",
    "plt.savefig ('Elevation.tif')"
   ]
  },
  {
   "cell_type": "code",
   "execution_count": 11,
   "metadata": {},
   "outputs": [
    {
     "data": {
      "image/png": "[encoded data removed]",
      "text/plain": [
       "<Figure size 432x288 with 1 Axes>"
      ]
     },
     "metadata": {
      "needs_background": "light"
     },
     "output_type": "display_data"
    }
   ],
   "source": [
    "ax4 = sns.boxplot (data= df, orient='h', x=\"SLOPE\", y=\"LULC\", width=0.8)\n",
    "plt.show\n",
    "fig = ax4\n",
    "plt.savefig ('Slope.tif')"
   ]
  },
  {
   "cell_type": "code",
   "execution_count": 12,
   "metadata": {},
   "outputs": [
    {
     "data": {
      "image/png": "[encoded data removed]",
      "text/plain": [
       "<Figure size 432x288 with 1 Axes>"
      ]
     },
     "metadata": {
      "needs_background": "light"
     },
     "output_type": "display_data"
    }
   ],
   "source": [
    "ax5 = sns.boxplot (data= df, orient='h', x=\"AREA\", y=\"LULC\", width=0.8)\n",
    "plt.show\n",
    "fig = ax5\n",
    "plt.savefig ('area.tif')"
   ]
  },
  {
   "cell_type": "code",
   "execution_count": 13,
   "metadata": {},
   "outputs": [
    {
     "data": {
      "image/png": "[encoded data removed]",
      "text/plain": [
       "<Figure size 432x288 with 1 Axes>"
      ]
     },
     "metadata": {
      "needs_background": "light"
     },
     "output_type": "display_data"
    }
   ],
   "source": [
    "ax6 = sns.boxplot (data= df, orient='h', x=\"DROUGHT\", y=\"LULC\", width=0.8)\n",
    "plt.show\n",
    "fig = ax6\n",
    "plt.savefig ('Drought.tif')"
   ]
  },
  {
   "cell_type": "code",
   "execution_count": 14,
   "metadata": {},
   "outputs": [
    {
     "data": {
      "image/png": "[encoded data removed]",
      "text/plain": [
       "<Figure size 432x288 with 1 Axes>"
      ]
     },
     "metadata": {
      "needs_background": "light"
     },
     "output_type": "display_data"
    }
   ],
   "source": [
    "ax7 = sns.boxplot (data= df, orient='h', x=\"SEVERITY\", y=\"LULC\", width=0.8)\n",
    "plt.show\n",
    "fig = ax7\n",
    "plt.savefig ('Severity.tif')"
   ]
  },
  {
   "cell_type": "code",
   "execution_count": 15,
   "metadata": {},
   "outputs": [
    {
     "data": {
      "image/png": "[encoded data removed]",
      "text/plain": [
       "<Figure size 432x288 with 1 Axes>"
      ]
     },
     "metadata": {
      "needs_background": "light"
     },
     "output_type": "display_data"
    }
   ],
   "source": [
    "ax8 = sns.boxplot (data= df, orient='h', x=\"PRIORITY\", y=\"LULC\", width=0.8)\n",
    "plt.show\n",
    "fig = ax8\n",
    "plt.savefig ('Priority.tif')"
   ]
  },
  {
   "cell_type": "code",
   "execution_count": 16,
   "metadata": {},
   "outputs": [
    {
     "data": {
      "image/png": "[encoded data removed]",
      "text/plain": [
       "<Figure size 432x288 with 1 Axes>"
      ]
     },
     "metadata": {
      "needs_background": "light"
     },
     "output_type": "display_data"
    }
   ],
   "source": [
    "ax9 = sns.boxplot (data= df, orient='h', x=\"RIVERS\", y=\"LULC\", width=0.8)\n",
    "plt.show\n",
    "fig = ax9\n",
    "plt.savefig ('Rivers.tif')"
   ]
  },
  {
   "cell_type": "code",
   "execution_count": 17,
   "metadata": {},
   "outputs": [
    {
     "data": {
      "image/png": "[encoded data removed]",
      "text/plain": [
       "<Figure size 432x288 with 1 Axes>"
      ]
     },
     "metadata": {
      "needs_background": "light"
     },
     "output_type": "display_data"
    }
   ],
   "source": [
    "ax10 = sns.boxplot (data= df, orient='h', x=\"ROADS\", y=\"LULC\", width=0.8)\n",
    "plt.show\n",
    "fig = ax10\n",
    "plt.savefig ('Roads.tif')"
   ]
  },
  {
   "cell_type": "code",
   "execution_count": 18,
   "metadata": {},
   "outputs": [
    {
     "data": {
      "image/png": "[encoded data removed]",
      "text/plain": [
       "<Figure size 432x288 with 1 Axes>"
      ]
     },
     "metadata": {
      "needs_background": "light"
     },
     "output_type": "display_data"
    }
   ],
   "source": [
    "ax11 = sns.boxplot (data= df, orient='h', x=\"RADIATION\", y=\"LULC\", width=0.8)\n",
    "plt.show\n",
    "fig = ax11\n",
    "plt.savefig ('Radiation.tif')"
   ]
  },
  {
   "cell_type": "code",
   "execution_count": 20,
   "metadata": {},
   "outputs": [
    {
     "data": {
      "image/png": "[encoded data removed]",
      "text/plain": [
       "<Figure size 432x288 with 1 Axes>"
      ]
     },
     "metadata": {
      "needs_background": "light"
     },
     "output_type": "display_data"
    }
   ],
   "source": [
    "ax12 = sns.boxplot (data= df, orient='h', x=\"C_FACTOR\", y=\"LULC\", width=0.8)\n",
    "plt.show\n",
    "fig = ax12\n",
    "plt.savefig ('C-factor.tif')"
   ]
  },
  {
   "cell_type": "code",
   "execution_count": 12,
   "metadata": {},
   "outputs": [],
   "source": [
    "df = pd.read_excel ('SDR_burned_area_pairplot.xlsx') #Read excel file"
   ]
  },
  {
   "cell_type": "code",
   "execution_count": 13,
   "metadata": {},
   "outputs": [
    {
     "data": {
      "text/html": [
       "<div>\n",
       "<style scoped>\n",
       "    .dataframe tbody tr th:only-of-type {\n",
       "        vertical-align: middle;\n",
       "    }\n",
       "\n",
       "    .dataframe tbody tr th {\n",
       "        vertical-align: top;\n",
       "    }\n",
       "\n",
       "    .dataframe thead th {\n",
       "        text-align: right;\n",
       "    }\n",
       "</style>\n",
       "<table border=\"1\" class=\"dataframe\">\n",
       "  <thead>\n",
       "    <tr style=\"text-align: right;\">\n",
       "      <th></th>\n",
       "      <th>zone</th>\n",
       "      <th>count</th>\n",
       "      <th>count_2</th>\n",
       "      <th>AREA</th>\n",
       "      <th>MONTH</th>\n",
       "      <th>YEAR</th>\n",
       "      <th>id1</th>\n",
       "      <th>LULC</th>\n",
       "      <th>IBGE</th>\n",
       "      <th>LULC_</th>\n",
       "      <th>...</th>\n",
       "      <th>RETENTION_POST</th>\n",
       "      <th>USLE_BALANCE</th>\n",
       "      <th>EXPORT_BALANCE</th>\n",
       "      <th>RETENTION_BALANCE</th>\n",
       "      <th>USLE_HA</th>\n",
       "      <th>EXPORT_HA</th>\n",
       "      <th>AVOID_HA</th>\n",
       "      <th>y</th>\n",
       "      <th>Rivers</th>\n",
       "      <th>Roads</th>\n",
       "    </tr>\n",
       "  </thead>\n",
       "  <tbody>\n",
       "    <tr>\n",
       "      <th>0</th>\n",
       "      <td>915</td>\n",
       "      <td>499</td>\n",
       "      <td>1050</td>\n",
       "      <td>32.050</td>\n",
       "      <td>SEP</td>\n",
       "      <td>SeleÃ§Ã£o_2010</td>\n",
       "      <td>167</td>\n",
       "      <td>Pasture</td>\n",
       "      <td>P</td>\n",
       "      <td>115</td>\n",
       "      <td>...</td>\n",
       "      <td>14223.248940</td>\n",
       "      <td>4231.889514</td>\n",
       "      <td>401.484800</td>\n",
       "      <td>503.840134</td>\n",
       "      <td>132.040234</td>\n",
       "      <td>12.526827</td>\n",
       "      <td>15.720441</td>\n",
       "      <td>YES</td>\n",
       "      <td>0.000000</td>\n",
       "      <td>0.000000</td>\n",
       "    </tr>\n",
       "    <tr>\n",
       "      <th>1</th>\n",
       "      <td>915</td>\n",
       "      <td>281</td>\n",
       "      <td>85912</td>\n",
       "      <td>21.237</td>\n",
       "      <td>SEP</td>\n",
       "      <td>SeleÃ§Ã£o_2010</td>\n",
       "      <td>193</td>\n",
       "      <td>Pasture</td>\n",
       "      <td>P</td>\n",
       "      <td>115</td>\n",
       "      <td>...</td>\n",
       "      <td>11656.566530</td>\n",
       "      <td>2731.074481</td>\n",
       "      <td>329.830360</td>\n",
       "      <td>443.654861</td>\n",
       "      <td>128.599825</td>\n",
       "      <td>15.530930</td>\n",
       "      <td>20.890656</td>\n",
       "      <td>YES</td>\n",
       "      <td>0.000000</td>\n",
       "      <td>149.964015</td>\n",
       "    </tr>\n",
       "    <tr>\n",
       "      <th>2</th>\n",
       "      <td>915</td>\n",
       "      <td>234</td>\n",
       "      <td>434</td>\n",
       "      <td>19.250</td>\n",
       "      <td>SEP</td>\n",
       "      <td>SeleÃ§Ã£o_2010</td>\n",
       "      <td>180</td>\n",
       "      <td>Pasture</td>\n",
       "      <td>P</td>\n",
       "      <td>115</td>\n",
       "      <td>...</td>\n",
       "      <td>6452.575461</td>\n",
       "      <td>2338.708847</td>\n",
       "      <td>189.464247</td>\n",
       "      <td>247.746525</td>\n",
       "      <td>121.491369</td>\n",
       "      <td>9.842299</td>\n",
       "      <td>12.869949</td>\n",
       "      <td>YES</td>\n",
       "      <td>0.000000</td>\n",
       "      <td>287.702609</td>\n",
       "    </tr>\n",
       "    <tr>\n",
       "      <th>3</th>\n",
       "      <td>915</td>\n",
       "      <td>188</td>\n",
       "      <td>204</td>\n",
       "      <td>15.202</td>\n",
       "      <td>SEP</td>\n",
       "      <td>SeleÃ§Ã£o_2003</td>\n",
       "      <td>89</td>\n",
       "      <td>Pasture</td>\n",
       "      <td>P</td>\n",
       "      <td>115</td>\n",
       "      <td>...</td>\n",
       "      <td>3662.513601</td>\n",
       "      <td>3469.201895</td>\n",
       "      <td>161.764282</td>\n",
       "      <td>194.659804</td>\n",
       "      <td>228.206940</td>\n",
       "      <td>10.640987</td>\n",
       "      <td>12.804881</td>\n",
       "      <td>YES</td>\n",
       "      <td>0.000000</td>\n",
       "      <td>1171.576356</td>\n",
       "    </tr>\n",
       "    <tr>\n",
       "      <th>4</th>\n",
       "      <td>1015</td>\n",
       "      <td>86</td>\n",
       "      <td>105</td>\n",
       "      <td>7.105</td>\n",
       "      <td>OCT</td>\n",
       "      <td>SeleÃ§Ã£o_2012</td>\n",
       "      <td>265</td>\n",
       "      <td>Pasture</td>\n",
       "      <td>P</td>\n",
       "      <td>115</td>\n",
       "      <td>...</td>\n",
       "      <td>3563.076644</td>\n",
       "      <td>2645.952023</td>\n",
       "      <td>150.608280</td>\n",
       "      <td>121.692404</td>\n",
       "      <td>372.407040</td>\n",
       "      <td>21.197506</td>\n",
       "      <td>17.127713</td>\n",
       "      <td>YES</td>\n",
       "      <td>320.400146</td>\n",
       "      <td>1592.526317</td>\n",
       "    </tr>\n",
       "  </tbody>\n",
       "</table>\n",
       "<p>5 rows × 47 columns</p>\n",
       "</div>"
      ],
      "text/plain": [
       "   zone  count  count_2    AREA MONTH            YEAR  id1     LULC IBGE  \\\n",
       "0   915    499     1050  32.050   SEP  SeleÃ§Ã£o_2010  167  Pasture    P   \n",
       "1   915    281    85912  21.237   SEP  SeleÃ§Ã£o_2010  193  Pasture    P   \n",
       "2   915    234      434  19.250   SEP  SeleÃ§Ã£o_2010  180  Pasture    P   \n",
       "3   915    188      204  15.202   SEP  SeleÃ§Ã£o_2003   89  Pasture    P   \n",
       "4  1015     86      105   7.105   OCT  SeleÃ§Ã£o_2012  265  Pasture    P   \n",
       "\n",
       "   LULC_  ...  RETENTION_POST  USLE_BALANCE  EXPORT_BALANCE  \\\n",
       "0    115  ...    14223.248940   4231.889514      401.484800   \n",
       "1    115  ...    11656.566530   2731.074481      329.830360   \n",
       "2    115  ...     6452.575461   2338.708847      189.464247   \n",
       "3    115  ...     3662.513601   3469.201895      161.764282   \n",
       "4    115  ...     3563.076644   2645.952023      150.608280   \n",
       "\n",
       "   RETENTION_BALANCE     USLE_HA  EXPORT_HA   AVOID_HA    y      Rivers  \\\n",
       "0         503.840134  132.040234  12.526827  15.720441  YES    0.000000   \n",
       "1         443.654861  128.599825  15.530930  20.890656  YES    0.000000   \n",
       "2         247.746525  121.491369   9.842299  12.869949  YES    0.000000   \n",
       "3         194.659804  228.206940  10.640987  12.804881  YES    0.000000   \n",
       "4         121.692404  372.407040  21.197506  17.127713  YES  320.400146   \n",
       "\n",
       "         Roads  \n",
       "0     0.000000  \n",
       "1   149.964015  \n",
       "2   287.702609  \n",
       "3  1171.576356  \n",
       "4  1592.526317  \n",
       "\n",
       "[5 rows x 47 columns]"
      ]
     },
     "execution_count": 13,
     "metadata": {},
     "output_type": "execute_result"
    }
   ],
   "source": [
    "df.head()"
   ]
  },
  {
   "cell_type": "code",
   "execution_count": 14,
   "metadata": {},
   "outputs": [
    {
     "data": {
      "text/plain": [
       "KstestResult(statistic=1.0, pvalue=0.0)"
      ]
     },
     "execution_count": 14,
     "metadata": {},
     "output_type": "execute_result"
    }
   ],
   "source": [
    "df= df [['USLE_BALANCE']]\n",
    "kstest (df, 'norm')"
   ]
  },
  {
   "cell_type": "markdown",
   "metadata": {},
   "source": [
    "area: KstestResult(statistic=1.0, pvalue=0.0)\n",
    "IIS: KstestResult(statistic=0.9999999990134123, pvalue=0.0)\n",
    "Elevation: KstestResult(statistic=1.0, pvalue=0.0)\n",
    "Slope: KstestResult(statistic=1.0, pvalue=0.0)\n",
    "Global radiation: KstestResult(statistic=1.0, pvalue=0.0)\n",
    "Erodibilidade: KstestResult(statistic=0.5227274024404855, pvalue=2.1498472313521018e-138)\n",
    "Erosividade: KstestResult(statistic=1.0, pvalue=0.0)\n",
    "Priority of restoration: KstestResult(statistic=0.9986501019683699, pvalue=0.0)\n",
    "Severity: KstestResult(statistic=0.6714787080441088, pvalue=9.003306242649962e-242)\n",
    "Soil loss pre fire: KstestResult(statistic=1.0, pvalue=0.0)\n",
    "Soil loss post fire: KstestResult(statistic=1.0, pvalue=0.0)\n",
    "Sediment export pre fire: KstestResult(statistic=1.0, pvalue=0.0)\n",
    "Sediment export post fire: KstestResult(statistic=1.0, pvalue=0.0)\n",
    "Sediment retention pre fire: KstestResult(statistic=1.0, pvalue=0.0)\n",
    "Sediment retention post fire: KstestResult(statistic=1.0, pvalue=0.0)\n",
    "Soil loss balance: KstestResult(statistic=1.0, pvalue=0.0)\n",
    "Sediment export balance: KstestResult(statistic=1.0, pvalue=0.0)\n",
    "Sediment retention balance: KstestResult(statistic=1.0, pvalue=0.0)\n",
    "Soil loss per burned area hectare: KstestResult(statistic=1.0, pvalue=0.0)\n",
    "Sediment export per burned area hectare: KstestResult(statistic=1.0, pvalue=0.0)\n",
    "Sediment retention per burned area hectare: KstestResult(statistic=1.0, pvalue=0.0)\n",
    "\n",
    "\n"
   ]
  },
  {
   "cell_type": "code",
   "execution_count": null,
   "metadata": {},
   "outputs": [],
   "source": []
  }
 ],
 "metadata": {
  "kernelspec": {
   "display_name": "Python 3",
   "language": "python",
   "name": "python3"
  },
  "language_info": {
   "codemirror_mode": {
    "name": "ipython",
    "version": 3
   },
   "file_extension": ".py",
   "mimetype": "text/x-python",
   "name": "python",
   "nbconvert_exporter": "python",
   "pygments_lexer": "ipython3",
   "version": "3.8.5"
  }
 },
 "nbformat": 4,
 "nbformat_minor": 4
}
